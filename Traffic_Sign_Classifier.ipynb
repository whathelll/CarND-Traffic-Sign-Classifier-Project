{
 "cells": [
  {
   "cell_type": "markdown",
   "metadata": {},
   "source": [
    "# Self-Driving Car Engineer Nanodegree\n",
    "\n",
    "## Deep Learning\n",
    "\n",
    "## Project: Build a Traffic Sign Recognition Classifier\n",
    "\n",
    "In this notebook, a template is provided for you to implement your functionality in stages which is required to successfully complete this project. If additional code is required that cannot be included in the notebook, be sure that the Python code is successfully imported and included in your submission, if necessary. Sections that begin with **'Implementation'** in the header indicate where you should begin your implementation for your project. Note that some sections of implementation are optional, and will be marked with **'Optional'** in the header.\n",
    "\n",
    "In addition to implementing code, there will be questions that you must answer which relate to the project and your implementation. Each section where you will answer a question is preceded by a **'Question'** header. Carefully read each question and provide thorough answers in the following text boxes that begin with **'Answer:'**. Your project submission will be evaluated based on your answers to each of the questions and the implementation you provide.\n",
    "\n",
    ">**Note:** Code and Markdown cells can be executed using the **Shift + Enter** keyboard shortcut. In addition, Markdown cells can be edited by typically double-clicking the cell to enter edit mode."
   ]
  },
  {
   "cell_type": "markdown",
   "metadata": {},
   "source": [
    "---\n",
    "## Step 0: Load The Data"
   ]
  },
  {
   "cell_type": "code",
   "execution_count": 1,
   "metadata": {
    "collapsed": false
   },
   "outputs": [
    {
     "name": "stdout",
     "output_type": "stream",
     "text": [
      "Files loaded\n"
     ]
    }
   ],
   "source": [
    "# Load pickled data\n",
    "import pickle\n",
    "\n",
    "# TODO: Fill this in based on where you saved the training and testing data\n",
    "\n",
    "training_file = 'train.p'\n",
    "testing_file = 'test.p'\n",
    "\n",
    "with open(training_file, mode='rb') as f:\n",
    "    train = pickle.load(f)\n",
    "with open(testing_file, mode='rb') as f:\n",
    "    test = pickle.load(f)\n",
    "    \n",
    "X_train, y_train = train['features'], train['labels']\n",
    "X_test, y_test = test['features'], test['labels']\n",
    "\n",
    "print('Files loaded')"
   ]
  },
  {
   "cell_type": "markdown",
   "metadata": {},
   "source": [
    "---\n",
    "\n",
    "## Step 1: Dataset Summary & Exploration\n",
    "\n",
    "The pickled data is a dictionary with 4 key/value pairs:\n",
    "\n",
    "- `'features'` is a 4D array containing raw pixel data of the traffic sign images, (num examples, width, height, channels).\n",
    "- `'labels'` is a 1D array containing the label/class id of the traffic sign. The file `signnames.csv` contains id -> name mappings for each id.\n",
    "- `'sizes'` is a list containing tuples, (width, height) representing the the original width and height the image.\n",
    "- `'coords'` is a list containing tuples, (x1, y1, x2, y2) representing coordinates of a bounding box around the sign in the image. **THESE COORDINATES ASSUME THE ORIGINAL IMAGE. THE PICKLED DATA CONTAINS RESIZED VERSIONS (32 by 32) OF THESE IMAGES**\n",
    "\n",
    "Complete the basic data summary below."
   ]
  },
  {
   "cell_type": "code",
   "execution_count": 2,
   "metadata": {
    "collapsed": false
   },
   "outputs": [
    {
     "name": "stdout",
     "output_type": "stream",
     "text": [
      "Number of training examples = 39209\n",
      "Number of testing examples = 12630\n",
      "Image data shape = (32, 32, 3)\n",
      "Number of classes = 43\n"
     ]
    }
   ],
   "source": [
    "### Replace each question mark with the appropriate value.\n",
    "\n",
    "# TODO: Number of training examples\n",
    "n_train =len(X_train)\n",
    "\n",
    "# TODO: Number of testing examples.\n",
    "n_test = len(X_test)\n",
    "\n",
    "# TODO: What's the shape of an traffic sign image?\n",
    "image_shape = X_train[0].shape\n",
    "\n",
    "# TODO: How many unique classes/labels there are in the dataset.\n",
    "n_classes = len(set(y_train))\n",
    "\n",
    "print(\"Number of training examples =\", n_train)\n",
    "print(\"Number of testing examples =\", n_test)\n",
    "print(\"Image data shape =\", image_shape)\n",
    "print(\"Number of classes =\", n_classes)\n",
    "\n"
   ]
  },
  {
   "cell_type": "markdown",
   "metadata": {},
   "source": [
    "Visualize the German Traffic Signs Dataset using the pickled file(s). This is open ended, suggestions include: plotting traffic sign images, plotting the count of each sign, etc.\n",
    "\n",
    "The [Matplotlib](http://matplotlib.org/) [examples](http://matplotlib.org/examples/index.html) and [gallery](http://matplotlib.org/gallery.html) pages are a great resource for doing visualizations in Python.\n",
    "\n",
    "**NOTE:** It's recommended you start with something simple first. If you wish to do more, come back to it after you've completed the rest of the sections."
   ]
  },
  {
   "cell_type": "code",
   "execution_count": 3,
   "metadata": {
    "collapsed": false
   },
   "outputs": [
    {
     "name": "stdout",
     "output_type": "stream",
     "text": [
      "20\n"
     ]
    },
    {
     "data": {
      "image/png": "[encoded data removed]",
      "text/plain": [
       "<matplotlib.figure.Figure at 0x7f9b0c16d7b8>"
      ]
     },
     "metadata": {},
     "output_type": "display_data"
    }
   ],
   "source": [
    "### Data exploration visualization goes here.\n",
    "### Feel free to use as many code cells as needed.\n",
    "import random\n",
    "import matplotlib.pyplot as plt\n",
    "# Visualizations will be shown in the notebook.\n",
    "%matplotlib inline\n",
    "\n",
    "index = random.randint(0, len(X_train))\n",
    "image = X_train[index].squeeze()\n",
    "\n",
    "plt.figure(figsize=(1,1))\n",
    "plt.imshow(image)\n",
    "print(y_train[index])"
   ]
  },
  {
   "cell_type": "markdown",
   "metadata": {},
   "source": [
    "----\n",
    "\n",
    "## Step 2: Design and Test a Model Architecture\n",
    "\n",
    "Design and implement a deep learning model that learns to recognize traffic signs. Train and test your model on the [German Traffic Sign Dataset](http://benchmark.ini.rub.de/?section=gtsrb&subsection=dataset).\n",
    "\n",
    "There are various aspects to consider when thinking about this problem:\n",
    "\n",
    "- Neural network architecture\n",
    "- Play around preprocessing techniques (normalization, rgb to grayscale, etc)\n",
    "- Number of examples per label (some have more than others).\n",
    "- Generate fake data.\n",
    "\n",
    "Here is an example of a [published baseline model on this problem](http://yann.lecun.com/exdb/publis/pdf/sermanet-ijcnn-11.pdf). It's not required to be familiar with the approach used in the paper but, it's good practice to try to read papers like these.\n",
    "\n",
    "**NOTE:** The LeNet-5 implementation shown in the [classroom](https://classroom.udacity.com/nanodegrees/nd013/parts/fbf77062-5703-404e-b60c-95b78b2f3f9e/modules/6df7ae49-c61c-4bb2-a23e-6527e69209ec/lessons/601ae704-1035-4287-8b11-e2c2716217ad/concepts/d4aca031-508f-4e0b-b493-e7b706120f81) at the end of the CNN lesson is a solid starting point. You'll have to change the number of classes and possibly the preprocessing, but aside from that it's plug and play!"
   ]
  },
  {
   "cell_type": "markdown",
   "metadata": {},
   "source": [
    "### Implementation\n",
    "\n",
    "Use the code cell (or multiple code cells, if necessary) to implement the first step of your project. Once you have completed your implementation and are satisfied with the results, be sure to thoroughly answer the questions that follow."
   ]
  },
  {
   "cell_type": "code",
   "execution_count": 4,
   "metadata": {
    "collapsed": true
   },
   "outputs": [],
   "source": [
    "### Preprocess the data here.\n",
    "### Feel free to use as many code cells as needed.\n",
    "\n",
    "# Shuffle the training data\n",
    "from sklearn.utils import shuffle\n",
    "X_train, y_train = shuffle(X_train, y_train)"
   ]
  },
  {
   "cell_type": "markdown",
   "metadata": {},
   "source": [
    "### Question 1 \n",
    "\n",
    "_Describe how you preprocessed the data. Why did you choose that technique?_"
   ]
  },
  {
   "cell_type": "markdown",
   "metadata": {},
   "source": [
    "**Answer:**"
   ]
  },
  {
   "cell_type": "code",
   "execution_count": 5,
   "metadata": {
    "collapsed": true
   },
   "outputs": [],
   "source": [
    "### Generate additional data (OPTIONAL!)\n",
    "### and split the data into training/validation/testing sets here.\n",
    "### Feel free to use as many code cells as needed."
   ]
  },
  {
   "cell_type": "markdown",
   "metadata": {},
   "source": [
    "I shuffled the dataset so the order of the training set doesn't place a bias on our model.\n"
   ]
  },
  {
   "cell_type": "markdown",
   "metadata": {},
   "source": [
    "**Split data into training/validation/testing sets**"
   ]
  },
  {
   "cell_type": "code",
   "execution_count": 6,
   "metadata": {
    "collapsed": false
   },
   "outputs": [
    {
     "name": "stdout",
     "output_type": "stream",
     "text": [
      "Number of training examples = 31367\n",
      "Number of validation examples = 7842\n",
      "Updated Image Shape: (32, 32, 3)\n"
     ]
    }
   ],
   "source": [
    "from sklearn.model_selection import train_test_split\n",
    "\n",
    "X_train, X_validation, y_train, y_validation = train_test_split(X_train, y_train, test_size=0.2, random_state=0)\n",
    "\n",
    "print(\"Number of training examples =\", len(X_train))\n",
    "print(\"Number of validation examples =\", len(X_validation))\n",
    "print(\"Updated Image Shape: {}\".format(X_train[0].shape))"
   ]
  },
  {
   "cell_type": "markdown",
   "metadata": {},
   "source": [
    "### Question 2\n",
    "\n",
    "_Describe how you set up the training, validation and testing data for your model. **Optional**: If you generated additional data, how did you generate the data? Why did you generate the data? What are the differences in the new dataset (with generated data) from the original dataset?_"
   ]
  },
  {
   "cell_type": "markdown",
   "metadata": {},
   "source": [
    "**Answer:**"
   ]
  },
  {
   "cell_type": "code",
   "execution_count": 7,
   "metadata": {
    "collapsed": true
   },
   "outputs": [],
   "source": [
    "### I used the sklearn's model_selection library to split my training data into train/validation sets. \n",
    "\n",
    "### Define your architecture here.\n",
    "### Feel free to use as many code cells as needed."
   ]
  },
  {
   "cell_type": "code",
   "execution_count": 8,
   "metadata": {
    "collapsed": true
   },
   "outputs": [],
   "source": [
    "import tensorflow as tf\n",
    "\n",
    "EPOCHS = 50\n",
    "BATCH_SIZE = 128"
   ]
  },
  {
   "cell_type": "markdown",
   "metadata": {},
   "source": [
    "**LeNet Architecture**"
   ]
  },
  {
   "cell_type": "code",
   "execution_count": 9,
   "metadata": {
    "collapsed": true
   },
   "outputs": [],
   "source": [
    "from tensorflow.contrib.layers import flatten\n",
    "\n",
    "def LeNet(x):    \n",
    "    # Arguments used for tf.truncated_normal, randomly defines variables for the weights and biases for each layer\n",
    "    mu = 0\n",
    "    sigma = 0.1\n",
    "    \n",
    "    # SOLUTION: Layer 1: Convolutional. Input = 32x32x3. Output = 28x28x6.\n",
    "    conv1_W = tf.Variable(tf.truncated_normal(shape=(5, 5, 3, 6), mean = mu, stddev = sigma))\n",
    "    conv1_b = tf.Variable(tf.zeros(6))\n",
    "    conv1   = tf.nn.conv2d(x, conv1_W, strides=[1, 1, 1, 1], padding='VALID') + conv1_b\n",
    "\n",
    "    # SOLUTION: Activation.\n",
    "    conv1 = tf.nn.relu(conv1)\n",
    "\n",
    "    # SOLUTION: Pooling. Input = 28x28x6. Output = 14x14x6.\n",
    "    conv1 = tf.nn.max_pool(conv1, ksize=[1, 2, 2, 1], strides=[1, 2, 2, 1], padding='VALID')\n",
    "\n",
    "    # SOLUTION: Layer 2: Convolutional. Output = 10x10x16.\n",
    "    conv2_W = tf.Variable(tf.truncated_normal(shape=(5, 5, 6, 16), mean = mu, stddev = sigma))\n",
    "    conv2_b = tf.Variable(tf.zeros(16))\n",
    "    conv2   = tf.nn.conv2d(conv1, conv2_W, strides=[1, 1, 1, 1], padding='VALID') + conv2_b\n",
    "    \n",
    "    # SOLUTION: Activation.\n",
    "    conv2 = tf.nn.relu(conv2)\n",
    "\n",
    "    # SOLUTION: Pooling. Input = 10x10x16. Output = 5x5x16.\n",
    "    conv2 = tf.nn.max_pool(conv2, ksize=[1, 2, 2, 1], strides=[1, 2, 2, 1], padding='VALID')\n",
    "\n",
    "    # SOLUTION: Flatten. Input = 5x5x16. Output = 400.\n",
    "    fc0   = flatten(conv2)\n",
    "    \n",
    "    # SOLUTION: Layer 3: Fully Connected. Input = 400. Output = 120.\n",
    "    fc1_W = tf.Variable(tf.truncated_normal(shape=(400, 120), mean = mu, stddev = sigma))\n",
    "    fc1_b = tf.Variable(tf.zeros(120))\n",
    "    fc1   = tf.matmul(fc0, fc1_W) + fc1_b\n",
    "    \n",
    "    # SOLUTION: Activation.\n",
    "    fc1    = tf.nn.relu(fc1)\n",
    "\n",
    "    # SOLUTION: Layer 4: Fully Connected. Input = 120. Output = 84.\n",
    "    fc2_W  = tf.Variable(tf.truncated_normal(shape=(120, 84), mean = mu, stddev = sigma))\n",
    "    fc2_b  = tf.Variable(tf.zeros(84))\n",
    "    fc2    = tf.matmul(fc1, fc2_W) + fc2_b\n",
    "    \n",
    "    # SOLUTION: Activation.\n",
    "    fc2    = tf.nn.relu(fc2)\n",
    "\n",
    "    # SOLUTION: Layer 5: Fully Connected. Input = 84. Output = 43.\n",
    "    fc3_W  = tf.Variable(tf.truncated_normal(shape=(84, 43), mean = mu, stddev = sigma))\n",
    "    fc3_b  = tf.Variable(tf.zeros(43))\n",
    "    logits = tf.matmul(fc2, fc3_W) + fc3_b\n",
    "    \n",
    "    return logits"
   ]
  },
  {
   "cell_type": "code",
   "execution_count": 10,
   "metadata": {
    "collapsed": true
   },
   "outputs": [],
   "source": [
    "# from tensorflow.contrib.layers import flatten\n",
    "# 3x3 + each convolution is deeper\n",
    "def LeNetModified(x):    \n",
    "    # Arguments used for tf.truncated_normal, randomly defines variables for the weights and biases for each layer\n",
    "    mu = 0\n",
    "    sigma = 0.1\n",
    "    \n",
    "    # SOLUTION: Layer 1: Convolutional. Input = 32x32x3. Output = 32x32x6.\n",
    "    conv1_W = tf.Variable(tf.truncated_normal(shape=(3, 3, 3, 64), mean = mu, stddev = sigma))\n",
    "    conv1_b = tf.Variable(tf.zeros(64))\n",
    "    conv1   = tf.nn.conv2d(x, conv1_W, strides=[1, 1, 1, 1], padding='SAME') + conv1_b\n",
    "\n",
    "    # SOLUTION: Activation.\n",
    "    conv1 = tf.nn.relu(conv1)\n",
    "\n",
    "    # SOLUTION: Pooling. Input = 32x32x64. Output = 16x16x64.\n",
    "    conv1 = tf.nn.avg_pool(conv1, ksize=[1, 2, 2, 1], strides=[1, 2, 2, 1], padding='VALID')\n",
    "\n",
    "    # SOLUTION: Layer 2: Convolutional. Output = 16x16x128.\n",
    "    conv2_W = tf.Variable(tf.truncated_normal(shape=(3, 3, 64, 128), mean = mu, stddev = sigma))\n",
    "    conv2_b = tf.Variable(tf.zeros(128))\n",
    "    conv2   = tf.nn.conv2d(conv1, conv2_W, strides=[1, 1, 1, 1], padding='SAME') + conv2_b\n",
    "    \n",
    "    # SOLUTION: Activation.\n",
    "    conv2 = tf.nn.relu(conv2)\n",
    "\n",
    "    # SOLUTION: Pooling. Input = 16x16x16. Output = 8x8x128.\n",
    "    conv2 = tf.nn.avg_pool(conv2, ksize=[1, 2, 2, 1], strides=[1, 2, 2, 1], padding='VALID')\n",
    "\n",
    "    # SOLUTION: Flatten. Input = 8x8x128. Output = 8192.\n",
    "    fc0   = flatten(conv2)\n",
    "    \n",
    "    # SOLUTION: Layer 3: Fully Connected. Input = 8192. Output = 1024.\n",
    "    fc1_W = tf.Variable(tf.truncated_normal(shape=(8192, 1024), mean = mu, stddev = sigma))\n",
    "    fc1_b = tf.Variable(tf.zeros(1024))\n",
    "    fc1   = tf.matmul(fc0, fc1_W) + fc1_b\n",
    "    \n",
    "    # SOLUTION: Activation.\n",
    "    fc1    = tf.nn.relu(fc1)\n",
    "\n",
    "    # SOLUTION: Layer 4: Fully Connected. Input = 1024. Output = 128.\n",
    "    fc2_W  = tf.Variable(tf.truncated_normal(shape=(1024, 128), mean = mu, stddev = sigma))\n",
    "    fc2_b  = tf.Variable(tf.zeros(128))\n",
    "    fc2    = tf.matmul(fc1, fc2_W) + fc2_b\n",
    "    \n",
    "    # SOLUTION: Activation.\n",
    "    fc2    = tf.nn.relu(fc2)\n",
    "\n",
    "    # SOLUTION: Layer 5: Fully Connected. Input = 84. Output = 43.\n",
    "    fc3_W  = tf.Variable(tf.truncated_normal(shape=(128, 43), mean = mu, stddev = sigma))\n",
    "    fc3_b  = tf.Variable(tf.zeros(43))\n",
    "    logits = tf.matmul(fc2, fc3_W) + fc3_b\n",
    "    \n",
    "    return logits"
   ]
  },
  {
   "cell_type": "code",
   "execution_count": 11,
   "metadata": {
    "collapsed": true
   },
   "outputs": [],
   "source": [
    "# a copy of the VGG architecture but not as deep as our image is smaller\n",
    "def VGGLike(x):    \n",
    "    # Arguments used for tf.truncated_normal, randomly defines variables for the weights and biases for each layer\n",
    "    mu = 0\n",
    "    sigma = 0.1\n",
    "    \n",
    "    # SOLUTION: Layer 1: Convolutional. Input = 32x32x3. Output = 32x32x64.\n",
    "    conv1_W = tf.Variable(tf.truncated_normal(shape=(3, 3, 3, 64), mean = mu, stddev = sigma))\n",
    "    conv1_b = tf.Variable(tf.zeros(64))\n",
    "    conv1   = tf.nn.conv2d(x, conv1_W, strides=[1, 1, 1, 1], padding='SAME') + conv1_b\n",
    "\n",
    "    # SOLUTION: Activation.\n",
    "    conv1 = tf.nn.relu(conv1)\n",
    "\n",
    "    # SOLUTION: Layer 2: Convolutional. Input = 32x32x64 Output = 32x32x64.\n",
    "    conv2_W = tf.Variable(tf.truncated_normal(shape=(3, 3, 64, 64), mean = mu, stddev = sigma))\n",
    "    conv2_b = tf.Variable(tf.zeros(64))\n",
    "    conv2   = tf.nn.conv2d(conv1, conv2_W, strides=[1, 1, 1, 1], padding='SAME') + conv2_b\n",
    "    \n",
    "    # SOLUTION: Activation.\n",
    "    conv2 = tf.nn.relu(conv2)\n",
    "\n",
    "    # SOLUTION: Layer 2: Convolutional. Input = 32x32x64 Output = 32x32x64.\n",
    "    conv2a_W = tf.Variable(tf.truncated_normal(shape=(3, 3, 64, 64), mean = mu, stddev = sigma))\n",
    "    conv2a_b = tf.Variable(tf.zeros(64))\n",
    "    conv2a   = tf.nn.conv2d(conv2, conv2a_W, strides=[1, 1, 1, 1], padding='SAME') + conv2a_b\n",
    "    \n",
    "    # SOLUTION: Activation.\n",
    "    conv2a = tf.nn.relu(conv2a)\n",
    "   \n",
    "    \n",
    "    # SOLUTION: Pooling. Input = 32x32x64. Output = 16x16x64.\n",
    "    conv2a = tf.nn.avg_pool(conv2a, ksize=[1, 2, 2, 1], strides=[1, 2, 2, 1], padding='VALID')\n",
    "\n",
    "    \n",
    "    \n",
    "    # SOLUTION: Layer 3: Convolutional. Input = 16x16x64. Output = 16x16x128.\n",
    "    conv3_W = tf.Variable(tf.truncated_normal(shape=(3, 3, 64, 128), mean = mu, stddev = sigma))\n",
    "    conv3_b = tf.Variable(tf.zeros(128))\n",
    "    conv3 = tf.nn.conv2d(conv2, conv3_W, strides=[1,1,1,1], padding='SAME') + conv3_b\n",
    "    \n",
    "    # Activation\n",
    "    conv3 = tf.nn.relu(conv3)\n",
    "    \n",
    "    # SOLUTION: Layer 4: Convolutional. Input = 16x16x128. Output = 16x16x128.\n",
    "    conv4_W = tf.Variable(tf.truncated_normal(shape=(3, 3, 128, 128), mean = mu, stddev = sigma))\n",
    "    conv4_b = tf.Variable(tf.zeros(128))\n",
    "    conv4 = tf.nn.conv2d(conv3, conv4_W, strides=[1,1,1,1], padding='SAME') + conv4_b\n",
    "    \n",
    "    # Activation\n",
    "    conv4 = tf.nn.relu(conv4)\n",
    "    \n",
    "    # SOLUTION: Layer 5: Convolutional. Input = 16x16x128. Output = 16x16x128.\n",
    "    conv5_W = tf.Variable(tf.truncated_normal(shape=(3, 3, 128, 128), mean = mu, stddev = sigma))\n",
    "    conv5_b = tf.Variable(tf.zeros(128))\n",
    "    conv5 = tf.nn.conv2d(conv4, conv5_W, strides=[1,1,1,1], padding='SAME') + conv5_b\n",
    "    \n",
    "    # Activation\n",
    "    conv5 = tf.nn.relu(conv5)\n",
    "    \n",
    "    # SOLUTION: Pooling. Input = 16x16x128. Output = 8x8x128.\n",
    "    conv5 = tf.nn.avg_pool(conv5, ksize=[1, 2, 2, 1], strides=[1, 2, 2, 1], padding='VALID')\n",
    "    \n",
    "    \n",
    "    \n",
    "    \n",
    "    \n",
    "    # SOLUTION: Flatten. Input = 8x8x128. Output = 8192.\n",
    "    fc0   = flatten(conv5)\n",
    "    \n",
    "    # SOLUTION: Layer 3: Fully Connected. Input = 8192. Output = 1024.\n",
    "    fc1_W = tf.Variable(tf.truncated_normal(shape=(8192, 1024), mean = mu, stddev = sigma))\n",
    "    fc1_b = tf.Variable(tf.zeros(1024))\n",
    "    fc1   = tf.matmul(fc0, fc1_W) + fc1_b\n",
    "    \n",
    "    # SOLUTION: Activation.\n",
    "    fc1    = tf.nn.relu(fc1)\n",
    "\n",
    "    # SOLUTION: Layer 4: Fully Connected. Input = 1024. Output = 128.\n",
    "    fc2_W  = tf.Variable(tf.truncated_normal(shape=(1024, 128), mean = mu, stddev = sigma))\n",
    "    fc2_b  = tf.Variable(tf.zeros(128))\n",
    "    fc2    = tf.matmul(fc1, fc2_W) + fc2_b\n",
    "    \n",
    "    # SOLUTION: Activation.\n",
    "    fc2    = tf.nn.relu(fc2)\n",
    "\n",
    "    # SOLUTION: Layer 5: Fully Connected. Input = 128. Output = 43.\n",
    "    fc3_W  = tf.Variable(tf.truncated_normal(shape=(128, 43), mean = mu, stddev = sigma))\n",
    "    fc3_b  = tf.Variable(tf.zeros(43))\n",
    "    logits = tf.matmul(fc2, fc3_W) + fc3_b\n",
    "    \n",
    "    return logits"
   ]
  },
  {
   "cell_type": "markdown",
   "metadata": {},
   "source": [
    "**Features and Labels**"
   ]
  },
  {
   "cell_type": "code",
   "execution_count": 12,
   "metadata": {
    "collapsed": true
   },
   "outputs": [],
   "source": [
    "x = tf.placeholder(tf.float32, (None, 32, 32, 3))\n",
    "y = tf.placeholder(tf.int32, (None))\n",
    "one_hot_y = tf.one_hot(y, 43)"
   ]
  },
  {
   "cell_type": "markdown",
   "metadata": {},
   "source": [
    "**Training Pipeline**\n",
    "\n",
    "Create a training pipeline that uses the model to classify MNIST data."
   ]
  },
  {
   "cell_type": "code",
   "execution_count": 13,
   "metadata": {
    "collapsed": false
   },
   "outputs": [],
   "source": [
    "rate = 0.0005\n",
    "\n",
    "logits = VGGLike(x)\n",
    "cross_entropy = tf.nn.softmax_cross_entropy_with_logits(logits, one_hot_y)\n",
    "loss_operation = tf.reduce_mean(cross_entropy)\n",
    "optimizer = tf.train.AdamOptimizer(learning_rate = rate)\n",
    "training_operation = optimizer.minimize(loss_operation)"
   ]
  },
  {
   "cell_type": "markdown",
   "metadata": {},
   "source": [
    "**Model Evaluation**"
   ]
  },
  {
   "cell_type": "code",
   "execution_count": 14,
   "metadata": {
    "collapsed": true
   },
   "outputs": [],
   "source": [
    "correct_prediction = tf.equal(tf.argmax(logits, 1), tf.argmax(one_hot_y, 1))\n",
    "accuracy_operation = tf.reduce_mean(tf.cast(correct_prediction, tf.float32))\n",
    "saver = tf.train.Saver()\n",
    "\n",
    "def evaluate(X_data, y_data):\n",
    "    num_examples = len(X_data)\n",
    "    total_accuracy = 0\n",
    "    sess = tf.get_default_session()\n",
    "    for offset in range(0, num_examples, BATCH_SIZE):\n",
    "        batch_x, batch_y = X_data[offset:offset+BATCH_SIZE], y_data[offset:offset+BATCH_SIZE]\n",
    "        accuracy = sess.run(accuracy_operation, feed_dict={x: batch_x, y: batch_y})\n",
    "        total_accuracy += (accuracy * len(batch_x))\n",
    "    return total_accuracy / num_examples"
   ]
  },
  {
   "cell_type": "markdown",
   "metadata": {},
   "source": [
    "### Question 3\n",
    "\n",
    "_What does your final architecture look like? (Type of model, layers, sizes, connectivity, etc.)  For reference on how to build a deep neural network using TensorFlow, see [Deep Neural Network in TensorFlow\n",
    "](https://classroom.udacity.com/nanodegrees/nd013/parts/fbf77062-5703-404e-b60c-95b78b2f3f9e/modules/6df7ae49-c61c-4bb2-a23e-6527e69209ec/lessons/b516a270-8600-4f93-a0a3-20dfeabe5da6/concepts/83a3a2a2-a9bd-4b7b-95b0-eb924ab14432) from the classroom._\n"
   ]
  },
  {
   "cell_type": "markdown",
   "metadata": {},
   "source": [
    "**Answer:**"
   ]
  },
  {
   "cell_type": "code",
   "execution_count": 15,
   "metadata": {
    "collapsed": true
   },
   "outputs": [],
   "source": [
    "### Train your model here.\n",
    "### Feel free to use as many code cells as needed."
   ]
  },
  {
   "cell_type": "code",
   "execution_count": 16,
   "metadata": {
    "collapsed": false
   },
   "outputs": [
    {
     "name": "stdout",
     "output_type": "stream",
     "text": [
      "Training...\n",
      "\n",
      "EPOCH 1: Validation Accuracy = 0.084\n",
      "EPOCH 2: Validation Accuracy = 0.090\n",
      "EPOCH 3: Validation Accuracy = 0.136\n",
      "EPOCH 4: Validation Accuracy = 0.149\n",
      "EPOCH 5: Validation Accuracy = 0.196\n",
      "EPOCH 6: Validation Accuracy = 0.302\n",
      "EPOCH 7: Validation Accuracy = 0.299\n",
      "EPOCH 8: Validation Accuracy = 0.338\n",
      "EPOCH 9: Validation Accuracy = 0.361\n",
      "EPOCH 10: Validation Accuracy = 0.386\n",
      "EPOCH 11: Validation Accuracy = 0.420\n",
      "EPOCH 12: Validation Accuracy = 0.495\n",
      "EPOCH 13: Validation Accuracy = 0.610\n",
      "EPOCH 14: Validation Accuracy = 0.694\n",
      "EPOCH 15: Validation Accuracy = 0.749\n",
      "EPOCH 16: Validation Accuracy = 0.813\n",
      "EPOCH 17: Validation Accuracy = 0.849\n",
      "EPOCH 18: Validation Accuracy = 0.906\n",
      "EPOCH 19: Validation Accuracy = 0.945\n",
      "EPOCH 20: Validation Accuracy = 0.968\n",
      "EPOCH 21: Validation Accuracy = 0.971\n",
      "EPOCH 22: Validation Accuracy = 0.960\n",
      "EPOCH 23: Validation Accuracy = 0.973\n",
      "EPOCH 24: Validation Accuracy = 0.963\n",
      "EPOCH 25: Validation Accuracy = 0.983\n",
      "EPOCH 26: Validation Accuracy = 0.981\n",
      "EPOCH 27: Validation Accuracy = 0.984\n",
      "EPOCH 28: Validation Accuracy = 0.982\n",
      "EPOCH 29: Validation Accuracy = 0.978\n",
      "EPOCH 30: Validation Accuracy = 0.987\n",
      "EPOCH 31: Validation Accuracy = 0.931\n",
      "EPOCH 32: Validation Accuracy = 0.979\n",
      "EPOCH 33: Validation Accuracy = 0.986\n",
      "EPOCH 34: Validation Accuracy = 0.989\n",
      "EPOCH 35: Validation Accuracy = 0.989\n",
      "EPOCH 36: Validation Accuracy = 0.986\n",
      "EPOCH 37: Validation Accuracy = 0.980\n",
      "EPOCH 38: Validation Accuracy = 0.991\n",
      "EPOCH 39: Validation Accuracy = 0.993\n",
      "EPOCH 40: Validation Accuracy = 0.983\n",
      "EPOCH 41: Validation Accuracy = 0.986\n",
      "EPOCH 42: Validation Accuracy = 0.972\n",
      "EPOCH 43: Validation Accuracy = 0.989\n",
      "EPOCH 44: Validation Accuracy = 0.987\n",
      "EPOCH 45: Validation Accuracy = 0.992\n",
      "EPOCH 46: Validation Accuracy = 0.994\n",
      "EPOCH 47: Validation Accuracy = 0.981\n",
      "EPOCH 48: Validation Accuracy = 0.989\n",
      "EPOCH 49: Validation Accuracy = 0.991\n",
      "EPOCH 50: Validation Accuracy = 0.992\n",
      "Model saved\n"
     ]
    }
   ],
   "source": [
    "\n",
    "\n",
    "with tf.Session() as sess:\n",
    "    sess.run(tf.global_variables_initializer())\n",
    "    num_examples = len(X_train)\n",
    "\n",
    "    print(\"Training...\")\n",
    "    print()\n",
    "    for i in range(EPOCHS):\n",
    "        X_train, y_train = shuffle(X_train, y_train)\n",
    "        for offset in range(0, num_examples, BATCH_SIZE):\n",
    "            end = offset + BATCH_SIZE\n",
    "            batch_x, batch_y = X_train[offset:end], y_train[offset:end]\n",
    "            sess.run(training_operation, feed_dict={x: batch_x, y: batch_y})\n",
    "\n",
    "        validation_accuracy = evaluate(X_validation, y_validation)\n",
    "        print(\"EPOCH {}: Validation Accuracy = {:.3f}\".format(i+1, validation_accuracy))\n",
    "\n",
    "#     saver.save(sess, './lenet')\n",
    "    print(\"Model saved\")\n",
    "\n",
    "tf.reset_default_graph()"
   ]
  },
  {
   "cell_type": "code",
   "execution_count": 97,
   "metadata": {
    "collapsed": false
   },
   "outputs": [
    {
     "name": "stdout",
     "output_type": "stream",
     "text": [
      "0.9722\n"
     ]
    }
   ],
   "source": [
    "# EPOCHS = 10 & BATCH_SIZE = 128\n",
    "import numpy as np\n",
    "result_average = np.array([0.977, 0.965, 0.986, 0.966, 0.967]).mean()\n",
    "print(result_average)"
   ]
  },
  {
   "cell_type": "markdown",
   "metadata": {},
   "source": [
    "## LeNet Architecture & Results\n",
    "X = (32,32,3)\n",
    "\n",
    "#### X -> conv1 (relu + max pool) -> conv2 (relu + max pool) -> fc1 -> fc2 -> fc3\n",
    "**conv1** = conv2d(filter=(5, 5, 3, 6), strides=[1,1,1,1], padding='VALID') -> relu -> max_pool (ksize=[1, 2, 2, 1], strides=[1, 2, 2, 1])  \n",
    "(32,32,3) -> (28,28,6) -> (14,14,6)  \n",
    "**conv2** = conv2d(filter=(5, 5, 6, 16), strides=[1,1,1,1], padding='VALID') -> relu -> max_pool (ksize=[1, 2, 2, 1], strides=[1, 2, 2, 1])  \n",
    "(14,14,6) -> (10x10x16) -> (5x5x16)  \n",
    "**fc1** = FullyConnected f=XW+b (400,120) -> relu  \n",
    "5x5x16 -> flat 400 -> 120  \n",
    "**fc2** = FullyConnected f=XW+b (120,84) -> relu  \n",
    "120 -> 84  \n",
    "**fc3** = FullyConnected f=XW+b (84,43) -> relu  \n",
    "84 -> 43  \n",
    "\n",
    "EPOCHS = 10 & BATCH_SIZE = 128  \n",
    "result_average = np.array([0.950, 0.957, 0.960, 0.940, 0.936]).mean() = 0.9486\n",
    "\n",
    "EPOCHS = 20 & BATCH_SIZE = 128  \n",
    "result_average = np.array([0.961, 0.960, 0.978, 0.951, 0.966]).mean() = **0.9632**\n",
    "\n",
    "EPOCHS = 10 & BATCH_SIZE = 256  \n",
    "result_average = np.array([0.947, 0.955, 0.948, 0.949, 0.950]).mean() = 0.9498\n",
    "\n",
    "EPOCHS = 10 & BATCH_SIZE = 64  \n",
    "result_average = np.array([0.942, 0.953, 0.956, 0.952, 0.963]).mean() = 0.9532\n",
    "\n",
    "**Observation**\n",
    "Having more Epochs makes a bigger difference than having a bigger batch size. Reducing batch size also seems to have a slight positive impact.\n",
    "\n",
    "#### Modified LeNet (no pooling, SAME padding)\n",
    "#### X -> conv1 (relu + max pool) -> conv2 (relu + max pool) -> fc1 -> fc2 -> fc3\n",
    "**conv1** = conv2d(filter=(5, 5, 3, 6), strides=[1,1,1,1], padding='SAME') -> relu  \n",
    "(32,32,3) -> (32,32,3)  \n",
    "**conv2** = conv2d(filter=(5, 5, 6, 16), strides=[1,1,1,1], padding='SAME') -> relu  \n",
    "(32,32,3) -> (32,32,3)  \n",
    "**fc1** = FullyConnected f=XW+b (3072,1200) -> relu  \n",
    "(32,32,3) -> flat 3072 -> 1200  \n",
    "**fc2** = FullyConnected f=XW+b (1200,512) -> relu  \n",
    "1200 -> 512  \n",
    "**fc3** = FullyConnected f=XW+b (512,43) -> relu  \n",
    "512 -> 43\n",
    "\n",
    "**Observation** removing pooling from LeNet puts accuracy at 0.05, that's a terrible result\n",
    "\n",
    "\n",
    "#### Changing to SAME padding which results in different FC sizes  \n",
    "SOLUTION: Layer 3: Fully Connected. Input = 1024. Output = 512.  \n",
    "SOLUTION: Layer 4: Fully Connected. Input = 512. Output = 256.  \n",
    "SOLUTION: Layer 5: Fully Connected. Input = 256. Output = 43.  \n",
    "performance degrades to 92'is after 10 epochs  \n",
    "\n",
    "Removing the Fully Connected Layer 2 reduced performance by a few %  \n",
    "Subsequently modifying the filter to be 3x3 didn't seem to affect the result_average = np.array([0.965, 0.944, 0.936, 0.938, 0.943]).mean() =  0.9452  \n",
    "\n",
    "Modifying convolution layers to be 64 -> 128 similar to VGG's fibre levels shows an interesting behavior, the model steadily gains but if it started off bad (e.g. 0.17) after first epoch it can take much longer to climb up. Almost as if it got stuck at a local minimum.  \n",
    "result_average = np.array([0.5, 0.917, 0.951, 0.905, 0.364]).mean() = 0.7274\n",
    "\n",
    "On top of the deeper fibres changing max_pool to avg_pool seem to have a positive effect, it seem to climb up faster even in situations that looked like it was gonna get stuck at a local minimum like above.  \n",
    "result_average = np.array([0.974, 0.968, 0.675, 0.964, 0.923]).mean()\n",
    "\n",
    "On top of this a comparison with Original LeNet at 50 Epochs shows a much better end result. The original LeNet tend to hover below 97% while the deeper fibre conv with avg_pool will tease 98-99%\n",
    "\n",
    "#### Testing LeNet with avg_pooling instead of max_pooling\n",
    "This seem to have an immediate impact. \n",
    "result_average = np.array([0.978, 0.967, 0.967, 0.977, 0.961]).mean() = 0.97\n",
    "\n",
    "\n"
   ]
  },
  {
   "cell_type": "markdown",
   "metadata": {},
   "source": [
    "## VGG 'like' Architecture & Results\n",
    "X = (32,32,3)\n",
    "\n",
    "#### X -> conv1 (relu) -> conv2 (relu + avg pool) -> conv3 (relu) -> conv4 -> (relu + avg_pool) -> fc1 -> fc2 -> fc3\n",
    "**conv1** = conv2d(filter=(3, 3, 3, 64), strides=[1,1,1,1], padding='SAME') -> relu \n",
    "(32x32x3) -> (32x32x64)\n",
    "**conv2** = conv2d(filter=(3, 3, 64, 64), strides=[1,1,1,1], padding='SAME') -> relu -> max_pool (ksize=[1, 2, 2, 1], strides=[1, 2, 2, 1])  \n",
    "(32x32x64) -> (32x32x64) -> (16x16x64)  \n",
    "**conv3** = conv2d(filter=(3, 3, 64, 128), strides=[1,1,1,1], padding='SAME') -> relu \n",
    "(16x16x64) -> (16x16x128)\n",
    "**conv4** = conv2d(filter=(3, 3, 128, 128), strides=[1,1,1,1], padding='SAME') -> relu \n",
    "(16x16x128) -> (16x16x128) -> (8x8x128)\n",
    "\n",
    "\n",
    "**fc1** = FullyConnected f=XW+b (8192,1024) -> relu  \n",
    "8x8x128 -> flat 8192 -> 1024  \n",
    "**fc2** = FullyConnected f=XW+b (1024,128) -> relu  \n",
    "1024 -> 128  \n",
    "**fc3** = FullyConnected f=XW+b (128,43) -> relu  \n",
    "128 -> 43  \n",
    "result_average = np.array([0.977, 0.965, 0.986, 0.966, 0.967]).mean() = 0.9722\n",
    "\n",
    "\n",
    "Using the above with an extra fifth convolution layer and below hyper parameters \n",
    "EPOCHS = 50\n",
    "BATCH_SIZE = 128\n",
    "rate = 0.0005\n",
    "achieves \"EPOCH 50: Validation Accuracy = 0.992\"\n",
    "\n",
    "\n",
    "\n",
    "\n"
   ]
  },
  {
   "cell_type": "code",
   "execution_count": 190,
   "metadata": {
    "collapsed": false
   },
   "outputs": [
    {
     "name": "stdout",
     "output_type": "stream",
     "text": [
      "0.9632\n"
     ]
    }
   ],
   "source": [
    "import numpy as np\n",
    "# calculation cell\n",
    "result_average = np.array([0.961, 0.960, 0.978, 0.951, 0.966]).mean()\n",
    "print(result_average)"
   ]
  },
  {
   "cell_type": "markdown",
   "metadata": {},
   "source": [
    "### Question 4\n",
    "\n",
    "_How did you train your model? (Type of optimizer, batch size, epochs, hyperparameters, etc.)_\n"
   ]
  },
  {
   "cell_type": "markdown",
   "metadata": {},
   "source": [
    "**Answer:**"
   ]
  },
  {
   "cell_type": "markdown",
   "metadata": {},
   "source": [
    "### Question 5\n",
    "\n",
    "\n",
    "_What approach did you take in coming up with a solution to this problem? It may have been a process of trial and error, in which case, outline the steps you took to get to the final solution and why you chose those steps. Perhaps your solution involved an already well known implementation or architecture. In this case, discuss why you think this is suitable for the current problem._"
   ]
  },
  {
   "cell_type": "markdown",
   "metadata": {},
   "source": [
    "**Answer:**\n",
    "Definitely a process of trial and error and observing impact as I modified variables. My experiments and observations are recorded above in cells within the Question 3 section. \n",
    "\n",
    "1. I first observed the LeNet and just playing with the Epochs and Batch sizes and recorded the impacts. \n",
    "2. Tried modifying padding parameters which didn't seem to have a huge impact\n",
    "3. Tried removing pooling and that produced really poor results\n",
    "4. Increasing depth of individual convolution layers (fibres) seem to have a positive impact\n",
    "5. changing to avg_pooling from max_pooling has positive impact on performance\n",
    "6. Simply changing the learning rate and increasing the epoch of the original LeNet doesn't seem to have a significant impact\n",
    "7. Modifying the LeNet to have deeper convolution layers, 64 & 128 respectively, has a significant impact on the performance. \n",
    "8. Building a series of convolution layers similar to the architecture of VGG shows positive output, however training time slows down significantly\n",
    "\n",
    "\n",
    "\n"
   ]
  },
  {
   "cell_type": "markdown",
   "metadata": {},
   "source": [
    "---\n",
    "\n",
    "## Step 3: Test a Model on New Images\n",
    "\n",
    "Take several pictures of traffic signs that you find on the web or around you (at least five), and run them through your classifier on your computer to produce example results. The classifier might not recognize some local signs but it could prove interesting nonetheless.\n",
    "\n",
    "You may find `signnames.csv` useful as it contains mappings from the class id (integer) to the actual sign name."
   ]
  },
  {
   "cell_type": "markdown",
   "metadata": {},
   "source": [
    "### Implementation\n",
    "\n",
    "Use the code cell (or multiple code cells, if necessary) to implement the first step of your project. Once you have completed your implementation and are satisfied with the results, be sure to thoroughly answer the questions that follow."
   ]
  },
  {
   "cell_type": "code",
   "execution_count": null,
   "metadata": {
    "collapsed": true
   },
   "outputs": [],
   "source": [
    "### Load the images and plot them here.\n",
    "### Feel free to use as many code cells as needed."
   ]
  },
  {
   "cell_type": "markdown",
   "metadata": {},
   "source": [
    "### Question 6\n",
    "\n",
    "_Choose five candidate images of traffic signs and provide them in the report. Are there any particular qualities of the image(s) that might make classification difficult? It could be helpful to plot the images in the notebook._\n",
    "\n"
   ]
  },
  {
   "cell_type": "markdown",
   "metadata": {},
   "source": [
    "**Answer:**"
   ]
  },
  {
   "cell_type": "code",
   "execution_count": null,
   "metadata": {
    "collapsed": true
   },
   "outputs": [],
   "source": [
    "### Run the predictions here.\n",
    "### Feel free to use as many code cells as needed.\n"
   ]
  },
  {
   "cell_type": "markdown",
   "metadata": {},
   "source": [
    "### Question 7\n",
    "\n",
    "_Is your model able to perform equally well on captured pictures when compared to testing on the dataset? The simplest way to do this check the accuracy of the predictions. For example, if the model predicted 1 out of 5 signs correctly, it's 20% accurate._\n",
    "\n",
    "_**NOTE:** You could check the accuracy manually by using `signnames.csv` (same directory). This file has a mapping from the class id (0-42) to the corresponding sign name. So, you could take the class id the model outputs, lookup the name in `signnames.csv` and see if it matches the sign from the image._\n"
   ]
  },
  {
   "cell_type": "markdown",
   "metadata": {},
   "source": [
    "**Answer:**"
   ]
  },
  {
   "cell_type": "code",
   "execution_count": null,
   "metadata": {
    "collapsed": true
   },
   "outputs": [],
   "source": [
    "### Visualize the softmax probabilities here.\n",
    "### Feel free to use as many code cells as needed."
   ]
  },
  {
   "cell_type": "markdown",
   "metadata": {},
   "source": [
    "### Question 8\n",
    "\n",
    "*Use the model's softmax probabilities to visualize the **certainty** of its predictions, [`tf.nn.top_k`](https://www.tensorflow.org/versions/r0.12/api_docs/python/nn.html#top_k) could prove helpful here. Which predictions is the model certain of? Uncertain? If the model was incorrect in its initial prediction, does the correct prediction appear in the top k? (k should be 5 at most)*\n",
    "\n",
    "`tf.nn.top_k` will return the values and indices (class ids) of the top k predictions. So if k=3, for each sign, it'll return the 3 largest probabilities (out of a possible 43) and the correspoding class ids.\n",
    "\n",
    "Take this numpy array as an example:\n",
    "\n",
    "```\n",
    "# (5, 6) array\n",
    "a = np.array([[ 0.24879643,  0.07032244,  0.12641572,  0.34763842,  0.07893497,\n",
    "         0.12789202],\n",
    "       [ 0.28086119,  0.27569815,  0.08594638,  0.0178669 ,  0.18063401,\n",
    "         0.15899337],\n",
    "       [ 0.26076848,  0.23664738,  0.08020603,  0.07001922,  0.1134371 ,\n",
    "         0.23892179],\n",
    "       [ 0.11943333,  0.29198961,  0.02605103,  0.26234032,  0.1351348 ,\n",
    "         0.16505091],\n",
    "       [ 0.09561176,  0.34396535,  0.0643941 ,  0.16240774,  0.24206137,\n",
    "         0.09155967]])\n",
    "```\n",
    "\n",
    "Running it through `sess.run(tf.nn.top_k(tf.constant(a), k=3))` produces:\n",
    "\n",
    "```\n",
    "TopKV2(values=array([[ 0.34763842,  0.24879643,  0.12789202],\n",
    "       [ 0.28086119,  0.27569815,  0.18063401],\n",
    "       [ 0.26076848,  0.23892179,  0.23664738],\n",
    "       [ 0.29198961,  0.26234032,  0.16505091],\n",
    "       [ 0.34396535,  0.24206137,  0.16240774]]), indices=array([[3, 0, 5],\n",
    "       [0, 1, 4],\n",
    "       [0, 5, 1],\n",
    "       [1, 3, 5],\n",
    "       [1, 4, 3]], dtype=int32))\n",
    "```\n",
    "\n",
    "Looking just at the first row we get `[ 0.34763842,  0.24879643,  0.12789202]`, you can confirm these are the 3 largest probabilities in `a`. You'll also notice `[3, 0, 5]` are the corresponding indices."
   ]
  },
  {
   "cell_type": "markdown",
   "metadata": {},
   "source": [
    "**Answer:**"
   ]
  },
  {
   "cell_type": "markdown",
   "metadata": {},
   "source": [
    "> **Note**: Once you have completed all of the code implementations and successfully answered each question above, you may finalize your work by exporting the iPython Notebook as an HTML document. You can do this by using the menu above and navigating to  \\n\",\n",
    "    \"**File -> Download as -> HTML (.html)**. Include the finished document along with this notebook as your submission."
   ]
  },
  {
   "cell_type": "code",
   "execution_count": null,
   "metadata": {
    "collapsed": true
   },
   "outputs": [],
   "source": []
  }
 ],
 "metadata": {
  "anaconda-cloud": {},
  "kernelspec": {
   "display_name": "Python 3",
   "language": "python",
   "name": "python3"
  },
  "language_info": {
   "codemirror_mode": {
    "name": "ipython",
    "version": 3
   },
   "file_extension": ".py",
   "mimetype": "text/x-python",
   "name": "python",
   "nbconvert_exporter": "python",
   "pygments_lexer": "ipython3",
   "version": "3.5.2"
  },
  "widgets": {
   "state": {},
   "version": "1.1.2"
  }
 },
 "nbformat": 4,
 "nbformat_minor": 1
}
